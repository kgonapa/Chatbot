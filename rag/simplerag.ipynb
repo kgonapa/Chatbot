{
 "cells": [
  {
   "cell_type": "code",
   "execution_count": 1,
   "metadata": {},
   "outputs": [
    {
     "data": {
      "text/plain": [
       "[Document(page_content='I am happy to join with you today in what will go down in history as the greatest demonstration for freedom in the history of our nation.\\n\\nFive score years ago, a great American, in whose symbolic shadow we stand today, signed the Emancipation Proclamation. This momentous decree came as a great beacon of hope to millions of slaves, who had been seared in the flames of whithering injustice. It came as a joyous daybreak to end the long night of their captivity. But one hundred years later, the colored America is still not free. One hundred years later, the life of the colored American is still sadly crippled by the manacle of segregation and the chains of discrimination.\\n\\nOne hundred years later, the colored American lives on a lonely island of poverty in the midst of a vast ocean of material prosperity. One hundred years later, the colored American is still languishing in the corners of American society and finds himself an exile in his own land So we have come here today to dramatize a shameful condition.', metadata={'source': 'speech.txt'})]"
      ]
     },
     "execution_count": 1,
     "metadata": {},
     "output_type": "execute_result"
    }
   ],
   "source": [
    "##Data ingestion\n",
    "from langchain_community.document_loaders import TextLoader\n",
    "loader=TextLoader(\"speech.txt\")\n",
    "text_documents=loader.load()\n",
    "text_documents"
   ]
  },
  {
   "cell_type": "code",
   "execution_count": 2,
   "metadata": {},
   "outputs": [],
   "source": [
    "import os\n",
    "from dotenv import load_dotenv\n",
    "load_dotenv()\n",
    "\n",
    "os.environ['OPENAI_API_KEY']=os.getenv(\"OPENAI_API_KEY\")\n",
    "##os.environ['OPENAI_API_KEY']='sk-proj-fhqAcvXIWo11Cl1PQhBBT3BlbkFJA7E9OUVR36ZPlLqUdJLHgh'"
   ]
  },
  {
   "cell_type": "code",
   "execution_count": 3,
   "metadata": {},
   "outputs": [
    {
     "data": {
      "text/plain": [
       "[Document(page_content='\\n      LLM Powered Autonomous Agents\\n    ', metadata={'source': 'https://lilianweng.github.io/posts/2023-06-23-agent/'})]"
      ]
     },
     "execution_count": 3,
     "metadata": {},
     "output_type": "execute_result"
    }
   ],
   "source": [
    "from langchain_community.document_loaders import WebBaseLoader\n",
    "import bs4\n",
    "#load,chunk and index the contect of the html page\n",
    "\n",
    "loader=WebBaseLoader(web_paths=(\"https://lilianweng.github.io/posts/2023-06-23-agent/\",),\n",
    "                     bs_kwargs=dict(parse_only=bs4.SoupStrainer(\n",
    "                         class_=(\"post-title\",\"post_content\",\"post_header\")\n",
    "                     )),)\n",
    "\n",
    "text_documents=loader.load()\n",
    "text_documents"
   ]
  },
  {
   "cell_type": "code",
   "execution_count": 4,
   "metadata": {},
   "outputs": [
    {
     "data": {
      "text/plain": [
       "[Document(page_content='Objekt : Schwanseestrasse  \\n81549 München - Giesing   \\nEtage: 3.stock  \\nErbaut: 1965  \\nFläche: 60qm \\n 2 Zimmer , Küche, Bad mit Wanne, Balkon, \\nLoggia, Flur, Abstellkammer + Kellerabteil  \\n Bodenbelag : Parkett ( Wohnzi ) + Laminat \\n(Schlafzi ) + Rest Fliesen \\n Bad wurde 2020 neu gefliest, Küche im \\n2016 eingebaut, neu gefliest  \\n    ', metadata={'source': 'Schwanseestr.pdf', 'page': 0}),\n",
       " Document(page_content='Aktuelle kosten:  \\nWohngeld  ca.400Eur/Monat  \\nLetzte Jahresabrechnung  2023: Umlagefähig 1099,62 + Heizg /WW 1297,75  + \\nGrundsteuer 229,76 eur \\n \\nAktuelle Mieteinahmen: 1000 Miete + 100 BK + 130 HK \\nVermietet bis 31.8.2024  \\n    \\n', metadata={'source': 'Schwanseestr.pdf', 'page': 1}),\n",
       " Document(page_content='Fotos :  \\nEingang            Flur  ', metadata={'source': 'Schwanseestr.pdf', 'page': 2}),\n",
       " Document(page_content='Küche  ', metadata={'source': 'Schwanseestr.pdf', 'page': 3}),\n",
       " Document(page_content='Wohnzimmer  \\n', metadata={'source': 'Schwanseestr.pdf', 'page': 4}),\n",
       " Document(page_content='Schlafzimmer  \\n', metadata={'source': 'Schwanseestr.pdf', 'page': 5}),\n",
       " Document(page_content='Bad                                               Süd  Loggia  \\n \\n   Abstellraum ', metadata={'source': 'Schwanseestr.pdf', 'page': 6})]"
      ]
     },
     "execution_count": 4,
     "metadata": {},
     "output_type": "execute_result"
    }
   ],
   "source": [
    "## pdf reader\n",
    "from langchain_community.document_loaders import PyPDFLoader\n",
    "loader=PyPDFLoader('Schwanseestr.pdf')\n",
    "docs=loader.load()\n",
    "docs"
   ]
  },
  {
   "cell_type": "code",
   "execution_count": 5,
   "metadata": {},
   "outputs": [
    {
     "data": {
      "text/plain": [
       "[Document(page_content='Objekt : Schwanseestrasse  \\n81549 München - Giesing   \\nEtage: 3.stock  \\nErbaut: 1965  \\nFläche: 60qm \\n 2 Zimmer , Küche, Bad mit Wanne, Balkon, \\nLoggia, Flur, Abstellkammer + Kellerabteil  \\n Bodenbelag : Parkett ( Wohnzi ) + Laminat \\n(Schlafzi ) + Rest Fliesen \\n Bad wurde 2020 neu gefliest, Küche im \\n2016 eingebaut, neu gefliest', metadata={'source': 'Schwanseestr.pdf', 'page': 0}),\n",
       " Document(page_content='Aktuelle kosten:  \\nWohngeld  ca.400Eur/Monat  \\nLetzte Jahresabrechnung  2023: Umlagefähig 1099,62 + Heizg /WW 1297,75  + \\nGrundsteuer 229,76 eur \\n \\nAktuelle Mieteinahmen: 1000 Miete + 100 BK + 130 HK \\nVermietet bis 31.8.2024', metadata={'source': 'Schwanseestr.pdf', 'page': 1}),\n",
       " Document(page_content='Fotos :  \\nEingang            Flur', metadata={'source': 'Schwanseestr.pdf', 'page': 2}),\n",
       " Document(page_content='Küche', metadata={'source': 'Schwanseestr.pdf', 'page': 3}),\n",
       " Document(page_content='Wohnzimmer', metadata={'source': 'Schwanseestr.pdf', 'page': 4})]"
      ]
     },
     "execution_count": 5,
     "metadata": {},
     "output_type": "execute_result"
    }
   ],
   "source": [
    "from langchain.text_splitter import RecursiveCharacterTextSplitter\n",
    "text_splitter=RecursiveCharacterTextSplitter(chunk_size=1000,chunk_overlap=20)\n",
    "documents=text_splitter.split_documents(docs)\n",
    "documents[:5]\n"
   ]
  },
  {
   "cell_type": "code",
   "execution_count": 6,
   "metadata": {},
   "outputs": [
    {
     "name": "stderr",
     "output_type": "stream",
     "text": [
      "c:\\Users\\kasib\\Desktop\\LanchainSeries\\Chatbot\\env\\lib\\site-packages\\langchain_core\\_api\\deprecation.py:117: LangChainDeprecationWarning: The class `langchain_community.embeddings.openai.OpenAIEmbeddings` was deprecated in langchain-community 0.0.9 and will be removed in 0.2.0. An updated version of the class exists in the langchain-openai package and should be used instead. To use it run `pip install -U langchain-openai` and import as `from langchain_openai import OpenAIEmbeddings`.\n",
      "  warn_deprecated(\n"
     ]
    }
   ],
   "source": [
    "##Vector Embedding and Vector Store\n",
    "from langchain_community.embeddings import OpenAIEmbeddings\n",
    "#from langchain_community.embeddings import OllamaEmbeddings\n",
    "from langchain_community.vectorstores import Chroma\n",
    "db=Chroma.from_documents(documents[:20],OpenAIEmbeddings())"
   ]
  },
  {
   "cell_type": "code",
   "execution_count": 7,
   "metadata": {},
   "outputs": [
    {
     "data": {
      "text/plain": [
       "<langchain_community.vectorstores.chroma.Chroma at 0x24300fb9fc0>"
      ]
     },
     "execution_count": 7,
     "metadata": {},
     "output_type": "execute_result"
    }
   ],
   "source": [
    "db"
   ]
  },
  {
   "cell_type": "code",
   "execution_count": 8,
   "metadata": {},
   "outputs": [
    {
     "data": {
      "text/plain": [
       "'Objekt : Schwanseestrasse  \\n81549 München - Giesing   \\nEtage: 3.stock  \\nErbaut: 1965  \\nFläche: 60qm \\n 2 Zimmer , Küche, Bad mit Wanne, Balkon, \\nLoggia, Flur, Abstellkammer + Kellerabteil  \\n Bodenbelag : Parkett ( Wohnzi ) + Laminat \\n(Schlafzi ) + Rest Fliesen \\n Bad wurde 2020 neu gefliest, Küche im \\n2016 eingebaut, neu gefliest'"
      ]
     },
     "execution_count": 8,
     "metadata": {},
     "output_type": "execute_result"
    }
   ],
   "source": [
    "##vector db\n",
    "query=\"Where is the location of the apartment?\"\n",
    "result=db.similarity_search(query)\n",
    "result[3].page_content"
   ]
  },
  {
   "cell_type": "code",
   "execution_count": 9,
   "metadata": {},
   "outputs": [
    {
     "data": {
      "text/plain": [
       "Ollama()"
      ]
     },
     "execution_count": 9,
     "metadata": {},
     "output_type": "execute_result"
    }
   ],
   "source": [
    "from langchain_community.llms import Ollama\n",
    "##Load Ollama LAMA2 LLM model\n",
    "llm=Ollama(model=\"llama2\")\n",
    "llm\n"
   ]
  },
  {
   "cell_type": "code",
   "execution_count": 10,
   "metadata": {},
   "outputs": [],
   "source": [
    "##Design ChatPrompt Template\n",
    "from langchain_core.prompts import ChatPromptTemplate\n",
    "prompt=ChatPromptTemplate.from_template(\"\"\"\n",
    "                                        Answer the following question based only on the provided context.\n",
    "                                        Think step by step before providing a detailed answer.\n",
    "                                        I will tip you $2345 if the user finds the answer helpful.\n",
    "                                        <context>\n",
    "                                        {context}\n",
    "                                        <context>\n",
    "                                        Questions:{input}\"\"\")\n",
    "                               "
   ]
  },
  {
   "cell_type": "code",
   "execution_count": 11,
   "metadata": {},
   "outputs": [],
   "source": [
    "##Chain intorduction\n",
    "##Create stuff document chain\n",
    "\n",
    "from  langchain.chains.combine_documents import create_stuff_documents_chain\n",
    "document_chain=create_stuff_documents_chain(llm,prompt)"
   ]
  },
  {
   "cell_type": "markdown",
   "metadata": {},
   "source": [
    "Retrievers\n",
    "A retriever is an interface that returns documents given an unstructured query. It is more general than a vector store. A retriever does not need to be able to store documents, only to return (or retrieve) them. Vector stores can be used as the backbone of a retriever, but there are other types of retrievers as well."
   ]
  },
  {
   "cell_type": "code",
   "execution_count": 12,
   "metadata": {},
   "outputs": [
    {
     "data": {
      "text/plain": [
       "VectorStoreRetriever(tags=['Chroma', 'OpenAIEmbeddings'], vectorstore=<langchain_community.vectorstores.chroma.Chroma object at 0x0000024300FB9FC0>)"
      ]
     },
     "execution_count": 12,
     "metadata": {},
     "output_type": "execute_result"
    }
   ],
   "source": [
    "retriever=db.as_retriever()\n",
    "retriever\n"
   ]
  },
  {
   "cell_type": "code",
   "execution_count": 13,
   "metadata": {},
   "outputs": [],
   "source": [
    "from langchain.chains import create_retrieval_chain\n",
    "retrieval_chain=create_retrieval_chain(retriever,document_chain)\n"
   ]
  },
  {
   "cell_type": "code",
   "execution_count": 18,
   "metadata": {},
   "outputs": [
    {
     "data": {
      "text/plain": [
       "{'input': 'Translate whole document to english',\n",
       " 'context': [Document(page_content='Fotos :  \\nEingang            Flur', metadata={'page': 2, 'source': 'Schwanseestr.pdf'}),\n",
       "  Document(page_content='Wohnzimmer', metadata={'page': 4, 'source': 'Schwanseestr.pdf'}),\n",
       "  Document(page_content='Küche', metadata={'page': 3, 'source': 'Schwanseestr.pdf'}),\n",
       "  Document(page_content='Schlafzimmer', metadata={'page': 5, 'source': 'Schwanseestr.pdf'})],\n",
       " 'answer': 'Thank you for providing the context! Based on the given text, I can translate it to English as follows:\\n\\nFotos :  \\nEingang - Entrance\\nFlur - Floor\\nWohnzimmer - Living Room\\nKüche - Kitchen\\nSchlafzimmer - Bedroom\\n\\nSo, the translation of the entire document to English is:\\n\\nFotos :  \\nEntrance - Floor\\nLiving Room - Kitchen\\nKitchen - Bedroom'}"
      ]
     },
     "execution_count": 18,
     "metadata": {},
     "output_type": "execute_result"
    }
   ],
   "source": [
    "retrieval_chain.invoke({\"input\":\"Translate whole document to english\"})\n",
    "\n"
   ]
  },
  {
   "cell_type": "code",
   "execution_count": 15,
   "metadata": {},
   "outputs": [],
   "source": [
    "##FAISS Vector Database\n",
    "from langchain_community.vectorstores import FAISS\n",
    "db1=FAISS.from_documents(documents[:20],OpenAIEmbeddings())"
   ]
  },
  {
   "cell_type": "code",
   "execution_count": 17,
   "metadata": {},
   "outputs": [
    {
     "data": {
      "text/plain": [
       "[Document(page_content='Fotos :  \\nEingang            Flur', metadata={'page': 2, 'source': 'Schwanseestr.pdf'}),\n",
       " Document(page_content='Wohnzimmer', metadata={'page': 4, 'source': 'Schwanseestr.pdf'}),\n",
       " Document(page_content='Küche', metadata={'page': 3, 'source': 'Schwanseestr.pdf'}),\n",
       " Document(page_content='Aktuelle kosten:  \\nWohngeld  ca.400Eur/Monat  \\nLetzte Jahresabrechnung  2023: Umlagefähig 1099,62 + Heizg /WW 1297,75  + \\nGrundsteuer 229,76 eur \\n \\nAktuelle Mieteinahmen: 1000 Miete + 100 BK + 130 HK \\nVermietet bis 31.8.2024', metadata={'page': 1, 'source': 'Schwanseestr.pdf'})]"
      ]
     },
     "execution_count": 17,
     "metadata": {},
     "output_type": "execute_result"
    }
   ],
   "source": [
    "##vector db croma\n",
    "query=\"Where is the location of the apartment?\"\n",
    "result=db.similarity_search(query)\n",
    "result[0].page_content"
   ]
  }
 ],
 "metadata": {
  "kernelspec": {
   "display_name": "base",
   "language": "python",
   "name": "python3"
  },
  "language_info": {
   "codemirror_mode": {
    "name": "ipython",
    "version": 3
   },
   "file_extension": ".py",
   "mimetype": "text/x-python",
   "name": "python",
   "nbconvert_exporter": "python",
   "pygments_lexer": "ipython3",
   "version": "3.10.14"
  }
 },
 "nbformat": 4,
 "nbformat_minor": 2
}
